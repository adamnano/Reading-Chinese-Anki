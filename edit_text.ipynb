{
 "cells": [
  {
   "cell_type": "code",
   "execution_count": 5,
   "metadata": {},
   "outputs": [
    {
     "name": "stdout",
     "output_type": "stream",
     "text": [
      "    擺      bǎi\\n\\nto arrange  Unnamed: 2  Unnamed: 3\n",
      "0  幫助  bāngzhù\\n\\nassistance         NaN         NaN\n",
      "1  包含   bāohán\\n\\nto contain         NaN         NaN\n",
      "2  保護    bǎohù\\n\\nto protect         NaN         NaN\n",
      "3   抱         bào\\n\\nto hold         NaN         NaN\n",
      "4  畢竟    bìjìng\\n\\nafter all         NaN         NaN\n"
     ]
    }
   ],
   "source": [
    "import pandas as pd\n",
    "\n",
    "final_list = pd.read_csv('final_list.csv')\n",
    "final_list_whole_book = pd.read_csv('final_list_whole_book.csv')\n",
    "\n",
    "final_list_whole_book = final_list_whole_book[~final_list_whole_book.apply(tuple,1).isin(final_list.apply(tuple,1))]\n",
    "\n",
    "final_list_whole_book.to_csv('updated_final_list_whole_book.csv', index=False)\n"
   ]
  },
  {
   "cell_type": "code",
   "execution_count": 2,
   "metadata": {},
   "outputs": [
    {
     "name": "stdout",
     "output_type": "stream",
     "text": [
      "/usr/local/bin/python3\n"
     ]
    }
   ],
   "source": [
    "import sys\n",
    "\n",
    "print(sys.executable)"
   ]
  },
  {
   "cell_type": "markdown",
   "metadata": {},
   "source": [
    "extend the csv file with new words from the rest of the book, not only the first chapter"
   ]
  },
  {
   "cell_type": "markdown",
   "metadata": {},
   "source": []
  }
 ],
 "metadata": {
  "kernelspec": {
   "display_name": "Python 3",
   "language": "python",
   "name": "python3"
  },
  "language_info": {
   "codemirror_mode": {
    "name": "ipython",
    "version": 3
   },
   "file_extension": ".py",
   "mimetype": "text/x-python",
   "name": "python",
   "nbconvert_exporter": "python",
   "pygments_lexer": "ipython3",
   "version": "3.11.2"
  }
 },
 "nbformat": 4,
 "nbformat_minor": 2
}
