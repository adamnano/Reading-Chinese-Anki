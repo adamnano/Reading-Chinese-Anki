{
 "cells": [
  {
   "cell_type": "markdown",
   "metadata": {},
   "source": [
    "extend the csv file with new words from the rest of the book, not only the first chapter"
   ]
  },
  {
   "cell_type": "code",
   "execution_count": 6,
   "metadata": {},
   "outputs": [],
   "source": [
    "import pandas as pd\n",
    "\n",
    "final_list = pd.read_csv('final_list.csv')\n",
    "final_list_whole_book = pd.read_csv('final_list_whole_book.csv')\n",
    "\n",
    "final_list_whole_book = final_list_whole_book[~final_list_whole_book.apply(tuple,1).isin(final_list.apply(tuple,1))]\n",
    "\n",
    "final_list_whole_book.to_csv('updated_final_list_whole_book.csv', index=False)\n"
   ]
  }
 ],
 "metadata": {
  "kernelspec": {
   "display_name": "Python 3",
   "language": "python",
   "name": "python3"
  },
  "language_info": {
   "codemirror_mode": {
    "name": "ipython",
    "version": 3
   },
   "file_extension": ".py",
   "mimetype": "text/x-python",
   "name": "python",
   "nbconvert_exporter": "python",
   "pygments_lexer": "ipython3",
   "version": "3.11.2"
  }
 },
 "nbformat": 4,
 "nbformat_minor": 2
}
